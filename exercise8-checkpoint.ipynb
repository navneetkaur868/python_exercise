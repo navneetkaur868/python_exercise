{
 "cells": [
  {
   "cell_type": "code",
   "execution_count": 2,
   "metadata": {},
   "outputs": [
    {
     "name": "stdout",
     "output_type": "stream",
     "text": [
      "Enter speed:100\n",
      "points:  6\n",
      "Enter speed:100\n",
      "points:  12\n",
      "licence expired\n"
     ]
    }
   ],
   "source": [
    "import sys\n",
    "\n",
    "points=0\n",
    "while True and points<12:\n",
    "    num=int(input(\"Enter speed:\"))\n",
    "    if(num<=70):\n",
    "        print(\"OK\")\n",
    "    elif(num>70 and num<=129 and points<12):\n",
    "        n=int((num-70)/5)\n",
    "        points=points+n\n",
    "        print(\"points: \",points)\n",
    "    else:\n",
    "        print(\"licence expired\")\n",
    "        sys.exit()\n",
    "print(\"licence expired\")    "
   ]
  },
  {
   "cell_type": "code",
   "execution_count": null,
   "metadata": {},
   "outputs": [],
   "source": []
  },
  {
   "cell_type": "code",
   "execution_count": null,
   "metadata": {},
   "outputs": [],
   "source": []
  }
 ],
 "metadata": {
  "kernelspec": {
   "display_name": "Python 3",
   "language": "python",
   "name": "python3"
  },
  "language_info": {
   "codemirror_mode": {
    "name": "ipython",
    "version": 3
   },
   "file_extension": ".py",
   "mimetype": "text/x-python",
   "name": "python",
   "nbconvert_exporter": "python",
   "pygments_lexer": "ipython3",
   "version": "3.7.1"
  }
 },
 "nbformat": 4,
 "nbformat_minor": 2
}
