{
 "cells": [
  {
   "cell_type": "code",
   "execution_count": 2,
   "metadata": {},
   "outputs": [
    {
     "name": "stdout",
     "output_type": "stream",
     "text": [
      "Enter number of terms:3\n",
      "32\n",
      "54\n",
      "76\n",
      "Entered list is: [32, 54, 76]\n",
      "First highest number:  76\n",
      "Second highest number:  54\n"
     ]
    }
   ],
   "source": [
    "n=int(input(\"Enter number of terms:\"))\n",
    "list1=[]\n",
    "for i in range(n):\n",
    "    x=int(input())\n",
    "    list1.append(x)\n",
    "print(\"Entered list is:\",list1)\n",
    "#sorted(list1,reverse=True)\n",
    "list1.sort(reverse=True)\n",
    "print(\"First highest number: \",list1[0])\n",
    "print(\"Second highest number: \",list1[1])"
   ]
  }
 ],
 "metadata": {
  "kernelspec": {
   "display_name": "Python 3",
   "language": "python",
   "name": "python3"
  },
  "language_info": {
   "codemirror_mode": {
    "name": "ipython",
    "version": 3
   },
   "file_extension": ".py",
   "mimetype": "text/x-python",
   "name": "python",
   "nbconvert_exporter": "python",
   "pygments_lexer": "ipython3",
   "version": "3.7.1"
  }
 },
 "nbformat": 4,
 "nbformat_minor": 2
}
