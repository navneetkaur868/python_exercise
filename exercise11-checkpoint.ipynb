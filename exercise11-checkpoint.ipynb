{
 "cells": [
  {
   "cell_type": "code",
   "execution_count": 7,
   "metadata": {},
   "outputs": [
    {
     "name": "stdout",
     "output_type": "stream",
     "text": [
      "Enter string:  hello world! 123\n",
      "Letters =  10\n",
      "Digits =  3\n"
     ]
    }
   ],
   "source": [
    "string=input(\"Enter string: \")\n",
    "letters = digits = 0\n",
    "for chr in string:\n",
    "    if(chr.isalpha()):\n",
    "        letters += 1\n",
    "    elif(chr.isdigit()):\n",
    "        digits += 1\n",
    "    else:\n",
    "        pass\n",
    "print(\"Letters = \",letters)\n",
    "print(\"Digits = \",digits)\n",
    "        \n",
    "        \n"
   ]
  },
  {
   "cell_type": "code",
   "execution_count": null,
   "metadata": {},
   "outputs": [],
   "source": []
  }
 ],
 "metadata": {
  "kernelspec": {
   "display_name": "Python 3",
   "language": "python",
   "name": "python3"
  },
  "language_info": {
   "codemirror_mode": {
    "name": "ipython",
    "version": 3
   },
   "file_extension": ".py",
   "mimetype": "text/x-python",
   "name": "python",
   "nbconvert_exporter": "python",
   "pygments_lexer": "ipython3",
   "version": "3.7.1"
  }
 },
 "nbformat": 4,
 "nbformat_minor": 2
}
