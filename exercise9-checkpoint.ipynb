{
 "cells": [
  {
   "cell_type": "code",
   "execution_count": 1,
   "metadata": {},
   "outputs": [
    {
     "name": "stdout",
     "output_type": "stream",
     "text": [
      "Enter string:10,20,30,40\n",
      "Entered string is:  10,20,30,40 \n",
      "\n",
      "String in list : ['10', '20', '30', '40']\n",
      "String in tuple: ('10', '20', '30', '40')\n"
     ]
    }
   ],
   "source": [
    "string=str(input(\"Enter string:\"))\n",
    "print(\"Entered string is: \",string,\"\\n\")\n",
    "\n",
    "list1=string.split(\",\")\n",
    "print(\"String in list :\",list1)\n",
    "\n",
    "print(\"String in tuple:\",tuple(list1))"
   ]
  },
  {
   "cell_type": "code",
   "execution_count": null,
   "metadata": {},
   "outputs": [],
   "source": []
  },
  {
   "cell_type": "code",
   "execution_count": null,
   "metadata": {},
   "outputs": [],
   "source": []
  }
 ],
 "metadata": {
  "kernelspec": {
   "display_name": "Python 3",
   "language": "python",
   "name": "python3"
  },
  "language_info": {
   "codemirror_mode": {
    "name": "ipython",
    "version": 3
   },
   "file_extension": ".py",
   "mimetype": "text/x-python",
   "name": "python",
   "nbconvert_exporter": "python",
   "pygments_lexer": "ipython3",
   "version": "3.7.1"
  }
 },
 "nbformat": 4,
 "nbformat_minor": 2
}
