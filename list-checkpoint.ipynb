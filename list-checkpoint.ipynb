{
 "cells": [
  {
   "cell_type": "code",
   "execution_count": 27,
   "metadata": {},
   "outputs": [
    {
     "name": "stdout",
     "output_type": "stream",
     "text": [
      "['Python', 'Java', 100, 'Php', 310.28, 'C#', 27.0, 'Asp', 1000, 'R', 'Django']\n",
      "------------------\n",
      "SEPARATED STRINGS\n",
      "------------------\n",
      "STRING: ['Python', 'Java', 'Php', 'C#', 'Asp', 'R', 'Django']\n",
      "NUMBER [100, 310.28, 27.0, 1000]\n",
      "\n",
      "STRING list in ascending order ['Asp', 'C#', 'Django', 'Java', 'Php', 'Python', 'R']\n",
      "\n",
      "STRING list in descending order ['R', 'Python', 'Php', 'Java', 'Django', 'C#', 'Asp']\n",
      "\n",
      "NUMBER list in ascending order [27.0, 100, 310.28, 1000]\n",
      "\n",
      "NUMBER list in descending order [1000, 310.28, 100, 27.0]\n"
     ]
    }
   ],
   "source": [
    "gadgets = [\"Python\", \"Java\", 100, \"Php\", 310.28, \"C#\", 27.00,\"Asp\", 1000, \"R\", \"Django\"]\n",
    "print(gadgets)\n",
    "string=[]\n",
    "number=[]\n",
    "for i in gadgets:\n",
    "    if(type(i))==str:\n",
    "        string.append(i)\n",
    "    else:\n",
    "        number.append(i)\n",
    "print(\"\"\"------------------\n",
    "SEPARATED STRINGS\n",
    "------------------\"\"\")\n",
    "print(\"STRING:\",string)\n",
    "print(\"NUMBER\",number)\n",
    "\n",
    "print(\"\\nSTRING list in ascending order\",sorted(string))\n",
    "print(\"\\nSTRING list in descending order\",sorted(string,reverse=True))\n",
    "print(\"\\nNUMBER list in ascending order\",sorted(number))\n",
    "print(\"\\nNUMBER list in descending order\",sorted(number,reverse=True))\n"
   ]
  },
  {
   "cell_type": "code",
   "execution_count": null,
   "metadata": {},
   "outputs": [],
   "source": []
  }
 ],
 "metadata": {
  "kernelspec": {
   "display_name": "Python 3",
   "language": "python",
   "name": "python3"
  },
  "language_info": {
   "codemirror_mode": {
    "name": "ipython",
    "version": 3
   },
   "file_extension": ".py",
   "mimetype": "text/x-python",
   "name": "python",
   "nbconvert_exporter": "python",
   "pygments_lexer": "ipython3",
   "version": "3.7.1"
  }
 },
 "nbformat": 4,
 "nbformat_minor": 2
}
